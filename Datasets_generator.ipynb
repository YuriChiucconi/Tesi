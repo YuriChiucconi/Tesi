{
  "nbformat": 4,
  "nbformat_minor": 0,
  "metadata": {
    "colab": {
      "name": "YURI_APRI_QUESTO_QUI.ipynb",
      "provenance": [],
      "collapsed_sections": []
    },
    "kernelspec": {
      "name": "python3",
      "display_name": "Python 3"
    }
  },
  "cells": [
    {
      "cell_type": "code",
      "metadata": {
        "id": "616xr3wY-117",
        "colab_type": "code",
        "colab": {}
      },
      "source": [
        "import numpy as np\n",
        "\n",
        "from sympy.integrals.quadrature import gauss_lobatto\n",
        "from scipy.optimize import fsolve"
      ],
      "execution_count": 0,
      "outputs": []
    },
    {
      "cell_type": "code",
      "metadata": {
        "id": "5B8AG3a6Ak7v",
        "colab_type": "code",
        "colab": {}
      },
      "source": [
        "from IPython.display import clear_output\n",
        "import timeit"
      ],
      "execution_count": 0,
      "outputs": []
    },
    {
      "cell_type": "markdown",
      "metadata": {
        "id": "VI3YDOyZ-2bo",
        "colab_type": "text"
      },
      "source": [
        "# Nodi di interpolazione\n",
        "\n",
        "La funzione **generate_interpolation_nodes** restituisce i nodi di interpolazione dull'elemento di riferimento $\\hat{K}=[-1,1]^d$.\n",
        "\n",
        "Gli argomenti da fornirle sono due:\n",
        "- $n$: un intero maggiore di 1 che indica quanti sono i punti di Chebyshev-Gauss-Lobatto che vogliamo considerare per generare i nodi;\n",
        "- $d$: un intero a scelta tra 2 e 3 che indica la dimensione dello spazio $\\mathbb{R}^d$ all'interno del quale si trova $\\hat{K}$.\n",
        "\n",
        "La funzione restituisce in output un array di dimensione $(n^d, d)$."
      ]
    },
    {
      "cell_type": "code",
      "metadata": {
        "id": "x7fYrt9W-ymT",
        "colab_type": "code",
        "colab": {}
      },
      "source": [
        "def generate_interpolation_nodes(n, d):\n",
        "    \n",
        "    assert d==2 or d==3\n",
        "    assert n>1\n",
        "\n",
        "    def generate_CGL_nodes(n):\n",
        "        q, w = gauss_lobatto(n, 10)\n",
        "        q = np.array(q, dtype=float)\n",
        "        return q\n",
        "\n",
        "    def generate_interpolation_nodes_2d(n):\n",
        "        q = generate_CGL_nodes(n)\n",
        "        Q1, Q2 = np.meshgrid(q,q)\n",
        "        grid = np.stack([Q1,Q2], axis=-1).reshape((-1,2))\n",
        "        return grid\n",
        "        \n",
        "    def generate_interpolation_nodes_3d(n):\n",
        "        q = generate_CGL_nodes(n)\n",
        "        Q1, Q2, Q3 = np.meshgrid(q,q,q)\n",
        "        grid = np.stack([Q1,Q2,Q3], axis=-1).reshape((-1,3))\n",
        "        return grid\n",
        "\n",
        "    if(d==2):\n",
        "      return generate_interpolation_nodes_2d(n)\n",
        "    elif(d==3):\n",
        "      return generate_interpolation_nodes_3d(n)\n",
        "    else:\n",
        "      print(\"Dimension d must be 2 or 3\")\n",
        "      return"
      ],
      "execution_count": 0,
      "outputs": []
    },
    {
      "cell_type": "markdown",
      "metadata": {
        "id": "O6ujTVD9AvAe",
        "colab_type": "text"
      },
      "source": [
        "# Celle random\n",
        "\n",
        "La funzione **generate_standard_cell** costruisce i punti di supporto di una cella standard $K$ distorcendo i punti di interpolazione di $\\hat{K}$.\n",
        "\n",
        "Gli argomenti da fornirle sono quattro:\n",
        "- $n$: un intero maggiore di 1 che indica quanti sono i punti di Chebyshev-Gauss-Lobatto che vogliamo considerare per generare i nodi di interpolazione di $\\hat{K}$;\n",
        "- $d$: un intero a scelta tra 2 e 3 che indica la dimensione dello spazio $\\mathbb{R}^d$ all'interno del quale si trova $K$;\n",
        "- $\\textit{eps}$: un numero che indica il grado di distorsione da applicare ai punti di interpolazione;\n",
        "- $\\textit{theta}$: rotazione a cui sarà sottoposta la cella distorta (se $d=2$ deve essere un numero, se $d=3$ allora dovrà essere una lista di tre numeri.\n",
        "\n",
        "La funzione restituisce in output un array di dimensione $(n^d, d)$."
      ]
    },
    {
      "cell_type": "code",
      "metadata": {
        "id": "w4rYu1mMEKwg",
        "colab_type": "code",
        "colab": {}
      },
      "source": [
        "def generate_standard_cell(n, d, eps=0, theta=0):\n",
        "    \n",
        "    assert n>1\n",
        "    assert d==2 or d==3\n",
        "\n",
        "    #Distortion\n",
        "    K = generate_interpolation_nodes(n,d)\n",
        "    distortion = (np.random.random(K.shape)-.5)*eps\n",
        "    K += distortion\n",
        "    \n",
        "    theta = np.array(theta)\n",
        "    #2D rotation\n",
        "    if(d==2):\n",
        "      assert len(theta.shape)==0\n",
        "      R = np.array([[np.cos(theta), np.sin(theta)],[-np.sin(theta), np.cos(theta)]])\n",
        "      K = np.tensordot(K, R, axes=[[-1],[-1]])\n",
        "    #3D rotation\n",
        "    elif (d==3):\n",
        "      assert theta.shape[0]==3\n",
        "      a, b, c = theta[0], theta[1], theta[2]\n",
        "      yaw = np.array([[np.cos(a),-np.sin(a),0.],[np.sin(a),np.cos(a),0.],[0.,0.,1.]])\n",
        "      pitch = np.array([[np.cos(b),0.,np.sin(b)],[0.,1.,0.],[-np.sin(b),0.,np.cos(b)]])\n",
        "      roll = np.array([[1.,0.,0.],[0.,np.cos(c),-np.sin(c)],[0.,np.sin(c),np.cos(c)]])\n",
        "      R = np.matmul(np.matmul(yaw,pitch),roll)\n",
        "      K = np.tensordot(K, R, axes=[[-1],[-1]])\n",
        "      \n",
        "    #Standardization\n",
        "    m, M = np.min(K, axis=0), np.max(K, axis=0)\n",
        "    h = M-m\n",
        "    K -= m\n",
        "    K /= h/2\n",
        "    K -= 1\n",
        "    return K"
      ],
      "execution_count": 0,
      "outputs": []
    },
    {
      "cell_type": "markdown",
      "metadata": {
        "id": "xmxpzjN176gX",
        "colab_type": "text"
      },
      "source": [
        "# Polinomi di Lagrange\n",
        "\n",
        "La funzione **generate_L** costruisce la funzione $\\mathcal{L}_K: \\mathbb{R}^d \\longrightarrow \\mathbb{R}^d$ che mappa l'elemento di supporto $\\hat{K}$ nella cella $K$.\n",
        "L'unico argomento da fornirle sono i punti di supporto di $K$, ottenuti dalla funzione $\\textit{generate_standard_cell}$, e in automatico viene costruita la funzione e restituita come output.\n",
        "\n",
        "La funzione restituita è vettorizzata:\n",
        "\n",
        "\n",
        "```\n",
        "K = generate_standard_cell(3,2,.5,1)\n",
        "L = generate_L(K)\n",
        "L([[0,0]]) # restituisce l'immagine del punto [0,0]\n",
        "L([[0,0],[5,2],[3,4]]) # restituisce un array contenente le immagini dei tre punti\n",
        "```\n",
        "\n",
        "\n"
      ]
    },
    {
      "cell_type": "code",
      "metadata": {
        "id": "-VrgUC0UIZVe",
        "colab_type": "code",
        "colab": {}
      },
      "source": [
        "def generate_L(K):\n",
        "   \n",
        "    d = K.shape[1]\n",
        "    n = int(pow(K.shape[0],1/d)+.5)\n",
        "    Khat = generate_interpolation_nodes(n,d)\n",
        "    q, w = gauss_lobatto(n, 10)\n",
        "    nodes = np.array(q, dtype=float)\n",
        "\n",
        "    def Lagrange(i,x):\n",
        "        x = x.repeat(n-1).reshape(-1,d*(n-1))\n",
        "        v = []\n",
        "        for k in range(d):\n",
        "            v.append(np.delete(nodes,np.where(nodes==Khat[i][k])))\n",
        "        v = np.array(v).flatten()\n",
        "        v = v.repeat(x.shape[0]).reshape((-1,len(v)), order='F')\n",
        "        avoid = Khat[i].repeat(n-1).repeat(x.shape[0]).reshape(-1,d*(n-1), order='F')\n",
        "        return np.prod((x-v)/(avoid-v), axis=1)\n",
        "    \n",
        "    def L(x):\n",
        "        x = np.array(x)\n",
        "        lgr = np.zeros((0,x.shape[0]))\n",
        "        for i in range(len(Khat)):\n",
        "            lgr = np.append(lgr, Lagrange(i,x))\n",
        "        lgr = np.stack(lgr.reshape((-1,x.shape[0])),axis=-1)\n",
        "        return np.matmul(lgr,K)\n",
        "\n",
        "    return L"
      ],
      "execution_count": 0,
      "outputs": []
    },
    {
      "cell_type": "markdown",
      "metadata": {
        "id": "wDtVUaXOJH1a",
        "colab_type": "text"
      },
      "source": [
        "# Full inversion dataset\n",
        "\n",
        "La funzione **dataset_full** genera il dataset per l'inversione completa. Gli argomenti da fornirle sono sei:\n",
        "- $n$: un intero maggiore di 1 che indica quanti sono i punti di Chebyshev-Gauss-Lobatto che vogliamo considerare per generare i nodi di interpolazione di $\\hat{K}$;\n",
        "- $d$: un intero a scelta tra 2 e 3 che indica la dimensione dello spazio $\\mathbb{R}^d$ all'interno del quale si trova $K$;\n",
        "- $\\textit{distortions}$: una lista di numeri utilizzati per la distorsione delle celle random;\n",
        "- $\\textit{angles}$: una lista di numeri per $d=2$ o una lista di triplette per $d=3$, utilizzati per la rotazione delle celle random;\n",
        "- $\\textit{delta}$: ampiezza dell'intorno che scegliamo per $\\hat{K}$ (default $0.5$);\n",
        "- $\\textit{n_sampling_points}$: numero con cui costruiamo la griglia di punti di cui vogliamo calcolare le immagini attraverso le funzioni $\\mathcal{L}_K$.\n",
        "\n",
        "La funzione restituisce in output due array: $\\textit{xtrain}$ e $\\textit{ytrain}$.\n"
      ]
    },
    {
      "cell_type": "code",
      "metadata": {
        "id": "GIpkfvHlG39k",
        "colab_type": "code",
        "colab": {}
      },
      "source": [
        "def dataset_full(n, d, distortions, angles, delta=.5, n_sampling_points=100):\n",
        "    assert n==2 or n==3 or n==4\n",
        "    assert d==2 or d==3\n",
        "    distortions = np.array(distortions)\n",
        "    angles = np.array(angles)\n",
        "    if (d==3):\n",
        "       assert angles.shape[1]==3\n",
        "\n",
        "    xhat_1d = np.linspace(-delta-1,1+delta,n_sampling_points)\n",
        "    if(d==2):\n",
        "      xhat = np.stack(np.meshgrid(xhat_1d,xhat_1d), axis=-1).reshape((-1,d))\n",
        "    else:\n",
        "      xhat = np.stack(np.meshgrid(xhat_1d,xhat_1d,xhat_1d), axis=-1).reshape((-1,d))\n",
        "\n",
        "    xtrain = np.zeros((0,(pow(n,d)+1)*d))\n",
        "    ytrain = np.zeros((0,d))\n",
        "\n",
        "    i=0\n",
        "    print(\"FULL INVERSE DATASET\")\n",
        "    print(\"Percentuale di completamento: 0%\")\n",
        "    start = timeit.default_timer()\n",
        "\n",
        "    for A in distortions:\n",
        "        i+=1\n",
        "        clear_output(wait=True)\n",
        "        for B in angles:\n",
        "            \n",
        "\n",
        "            K = generate_standard_cell(n,d,A,B)\n",
        "            L = generate_L(K)\n",
        "            x = L(xhat)\n",
        "            mask = (x >= -1).all(axis=-1) * (x <= 1).all(axis=-1)\n",
        "            x = x[mask,:]\n",
        "            xhat = xhat[mask,:]\n",
        "            \n",
        "            xdata = np.concatenate((x, np.reshape(np.repeat(K.flatten(),x.shape[0]), (x.shape[0],-1) ,order='F')), axis=-1)\n",
        "\n",
        "            xtrain = np.append(xtrain, xdata, axis=0)\n",
        "            ytrain = np.append(ytrain, xhat[...,:], axis=0)\n",
        "\n",
        "        stop = timeit.default_timer()\n",
        "        time = np.round((stop-start)/60 , 2)\n",
        "        wait = np.round((time/i)*(len(distortions)-i), 2)\n",
        "        print(\"FULL INVERSE DATASET\")\n",
        "        print(\"Tempo trascorso: \", time, \" minuti\")\n",
        "        print(\"Tempo rimanente stimato: \", wait, \" minuti\")\n",
        "        print(\"Percentuale di completamento: \", np.round((i/len(distortions))*100,2), \"%\") \n",
        "\n",
        "\n",
        "    return xtrain, ytrain"
      ],
      "execution_count": 0,
      "outputs": []
    },
    {
      "cell_type": "markdown",
      "metadata": {
        "id": "T10kUZRZa0ED",
        "colab_type": "text"
      },
      "source": [
        "# Polynomial inversion dataset\n",
        "\n",
        "La funzione **find_polynomial_inverse** costruisce i punti di supporto per l'inversione polinomiale. Gli argomenti da fornirle sono due:\n",
        "- $K$: l'insieme dei punti di supporto della cella $K$ costruiti attraverso $\\textit{generate_standard_cell}$;\n",
        "- $\\textit{up}$: un intero che indica di quanto vogliamo aumentare il grado dell'inversa rispetto al grado di $\\mathcal{L}_K$."
      ]
    },
    {
      "cell_type": "code",
      "metadata": {
        "id": "pA5gw_RZCWdg",
        "colab_type": "code",
        "colab": {}
      },
      "source": [
        "def find_polynomial_inverse(K,up):\n",
        "    d = K.shape[1]\n",
        "    n = int(pow(K.shape[0],1/d)+.5) + up\n",
        "    Khat = generate_interpolation_nodes(n,d)\n",
        "\n",
        "    def residual(V):\n",
        "        V = V.reshape((-1,d))\n",
        "        F = generate_L(K)\n",
        "        res = F(V)- Khat\n",
        "        return res.flatten()\n",
        "    \n",
        "    return fsolve(residual,Khat.flatten()).reshape(-1,d)"
      ],
      "execution_count": 0,
      "outputs": []
    },
    {
      "cell_type": "markdown",
      "metadata": {
        "id": "N4ig8USmpgoQ",
        "colab_type": "text"
      },
      "source": [
        "La funzione **dataset_polynomial** genera il dataset per l'inversione polinomiale. Gli argomenti da fornirle sono cinque:\n",
        "- $n$: un intero maggiore di 1 che indica quanti sono i punti di Chebyshev-Gauss-Lobatto che vogliamo considerare per generare i nodi di interpolazione di $\\hat{K}$;\n",
        "- $\\textit{up}$: un intero che indica di quanto vogliamo aumentare il grado delle inverse rispetto al grado delle $\\mathcal{L}_K$;\n",
        "- $d$: un intero a scelta tra 2 e 3 che indica la dimensione dello spazio $\\mathbb{R}^d$ all'interno del quale si trovano le celle $K$;\n",
        "- $\\textit{distortions}$: una lista di numeri utilizzati per la distorsione delle celle random;\n",
        "- $\\textit{angles}$: una lista di numeri per $d=2$ o una lista di triplette per $d=3$, utilizzati per la rotazione delle celle random.\n",
        "\n",
        "La funzione restituisce in output due array: $\\textit{xtrain}$ e $\\textit{ytrain}$."
      ]
    },
    {
      "cell_type": "code",
      "metadata": {
        "id": "a3RZZ4WNyoiB",
        "colab_type": "code",
        "colab": {}
      },
      "source": [
        "def dataset_polynomial(n, up, d, distortions, angles):\n",
        "    assert n==2 or n==3 or n==4\n",
        "    assert d==2 or d==3\n",
        "    \n",
        "    \n",
        "    distortions = np.array(distortions)\n",
        "    angles = np.array(angles)\n",
        "    if (d==3):\n",
        "       assert angles.shape[1]==3\n",
        "\n",
        "    xtrain = np.zeros((0,(pow(n,d)*d)))\n",
        "    ytrain = np.zeros((0,(pow(n+up,d)*d)))\n",
        "\n",
        "    i=0\n",
        "    print(\"POLYNOMIAL DATASET\")\n",
        "    print(\"Percentuale di completamento: 0%\")\n",
        "    start = timeit.default_timer()\n",
        "\n",
        "\n",
        "    for A in distortions:\n",
        "\n",
        "        i+=1\n",
        "        clear_output(wait=True)\n",
        "\n",
        "        for B in angles:\n",
        "            K = generate_standard_cell(n,d,A,B)\n",
        "            xtrain = np.append(xtrain, K.flatten())\n",
        "            ytrain = np.append(ytrain, find_polynomial_inverse(K,up))\n",
        "\n",
        "        stop = timeit.default_timer()\n",
        "        time = np.round((stop-start)/60 , 2)\n",
        "        wait = np.round((time/i)*(len(distortions)-i), 2)\n",
        "        print(\"POLYNOMIAL DATASET\")\n",
        "        print(\"Tempo trascorso: \", time, \" minuti\")\n",
        "        print(\"Tempo rimanente stimato: \", wait, \" minuti\")\n",
        "        print(\"Percentuale di completamento: \", np.round((i/len(distortions))*100,2), \"%\")    \n",
        "\n",
        "    xtrain = xtrain.reshape((-1,(pow(n,d)*d)))\n",
        "    ytrain = ytrain.reshape((-1,(pow(n+up,d)*d)))\n",
        "\n",
        "    return xtrain, ytrain"
      ],
      "execution_count": 0,
      "outputs": []
    },
    {
      "cell_type": "markdown",
      "metadata": {
        "id": "Uuv5DPUbuIXJ",
        "colab_type": "text"
      },
      "source": [
        "# FULL DATASETS GENERATION"
      ]
    },
    {
      "cell_type": "code",
      "metadata": {
        "id": "cyiWaLYNuNEN",
        "colab_type": "code",
        "colab": {}
      },
      "source": [
        "xtrain, ytrain = dataset_full(n = 2,\n",
        "                              d = 2,\n",
        "                              distortions = np.linspace(0,1,1000),\n",
        "                              angles = np.linspace(0,2*np.pi,360),\n",
        "                              delta = .5,\n",
        "                              n_sampling_points = 250)\n",
        "np.save(\"X_full_2_2\", xtrain)\n",
        "np.save(\"Y_full_2_2\", ytrain)"
      ],
      "execution_count": 0,
      "outputs": []
    },
    {
      "cell_type": "code",
      "metadata": {
        "id": "MNP7s8Uwu_yd",
        "colab_type": "code",
        "colab": {}
      },
      "source": [
        "xtrain, ytrain = dataset_full(n = 3,\n",
        "                              d = 2,\n",
        "                              distortions = np.linspace(0,.5,500),\n",
        "                              angles = np.linspace(0,2*np.pi,360),\n",
        "                              delta = .5,\n",
        "                              n_sampling_points = 250)\n",
        "np.save(\"X_full_3_2\", xtrain)\n",
        "np.save(\"Y_full_3_2\", ytrain)"
      ],
      "execution_count": 0,
      "outputs": []
    },
    {
      "cell_type": "code",
      "metadata": {
        "id": "4XYQ3dIBvJYW",
        "colab_type": "code",
        "colab": {}
      },
      "source": [
        "xtrain, ytrain = dataset_full(n = 2,\n",
        "                              d = 3,\n",
        "                              distortions = np.linspace(0,1,1000),\n",
        "                              angles = np.linspace(0,2*np.pi,360),\n",
        "                              delta = .5,\n",
        "                              n_sampling_points = 100)\n",
        "np.save(\"X_full_2_3\", xtrain)\n",
        "np.save(\"Y_full_2_3\", ytrain)"
      ],
      "execution_count": 0,
      "outputs": []
    },
    {
      "cell_type": "code",
      "metadata": {
        "id": "s8yL6lugvU7j",
        "colab_type": "code",
        "colab": {}
      },
      "source": [
        "xtrain, ytrain = dataset_full(n = 3,\n",
        "                              d = 3,\n",
        "                              distortions = np.linspace(0,.5,500),\n",
        "                              angles = np.linspace(0,2*np.pi,360),\n",
        "                              delta = .5,\n",
        "                              n_sampling_points = 100)\n",
        "np.save(\"X_full_3_3\", xtrain)\n",
        "np.save(\"Y_full_3_3\", ytrain)"
      ],
      "execution_count": 0,
      "outputs": []
    },
    {
      "cell_type": "markdown",
      "metadata": {
        "id": "nOhKV03LvoGm",
        "colab_type": "text"
      },
      "source": [
        "# POLYNOMIAL DATASETS GENERATION"
      ]
    },
    {
      "cell_type": "code",
      "metadata": {
        "id": "6CofUcFYvn0T",
        "colab_type": "code",
        "colab": {}
      },
      "source": [
        "xtrain, ytrain = dataset_polynomial(n = 2,\n",
        "                                    up = 1,\n",
        "                                    d = 2,\n",
        "                                    distortions = np.linspace(0,1,1000),\n",
        "                                    angles = np.linspace(0,2*np.pi,360))\n",
        "np.save(\"X_polynomial_2_1_2\", xtrain)\n",
        "np.save(\"Y_polynomial_2_1_2\", ytrain)"
      ],
      "execution_count": 0,
      "outputs": []
    },
    {
      "cell_type": "code",
      "metadata": {
        "id": "2sWxf16IwFOU",
        "colab_type": "code",
        "colab": {}
      },
      "source": [
        "xtrain, ytrain = dataset_polynomial(n = 3,\n",
        "                                    up = 1,\n",
        "                                    d = 2,\n",
        "                                    distortions = np.linspace(0,.5,500),\n",
        "                                    angles = np.linsapce(0,2*np.pi,360))\n",
        "np.save(\"X_polynomial_3_1_2\", xtrain)\n",
        "np.save(\"Y_polynomial_3_1_2\", ytrain)"
      ],
      "execution_count": 0,
      "outputs": []
    }
  ]
}