{
  "nbformat": 4,
  "nbformat_minor": 0,
  "metadata": {
    "colab": {
      "name": "YURI_APRI_QUESTO_QUI.ipynb",
      "provenance": [],
      "collapsed_sections": [],
      "authorship_tag": "ABX9TyP0iycDQyDWrlQtdbyjdqRZ"
    },
    "kernelspec": {
      "name": "python3",
      "display_name": "Python 3"
    }
  },
  "cells": [
    {
      "cell_type": "code",
      "metadata": {
        "id": "616xr3wY-117",
        "colab_type": "code",
        "colab": {}
      },
      "source": [
        "import numpy as np\n",
        "import scipy as sp\n",
        "from matplotlib import pyplot as plt\n",
        "from mpl_toolkits.mplot3d import Axes3D\n",
        "import scipy.special \n",
        "from sympy.integrals.quadrature import gauss_lobatto\n",
        "from sklearn.utils import shuffle"
      ],
      "execution_count": 0,
      "outputs": []
    },
    {
      "cell_type": "code",
      "metadata": {
        "id": "5B8AG3a6Ak7v",
        "colab_type": "code",
        "colab": {}
      },
      "source": [
        "from IPython.display import clear_output\n",
        "import timeit"
      ],
      "execution_count": 0,
      "outputs": []
    },
    {
      "cell_type": "markdown",
      "metadata": {
        "id": "VI3YDOyZ-2bo",
        "colab_type": "text"
      },
      "source": [
        "# Nodi di interpolazione\n",
        "\n",
        "Il seguente codice costruisce i nodi di interpolazione sull'elemento di riferimento $\\hat{K}=[-1,1]^d$.\n",
        "\n",
        "La funzione che ci servirà sarà **generate_interpolation_nodes** che vuole tre argomenti:\n",
        "\n",
        "- n : numero di punti di Chebyshev-Gauss-Lobatto che andranno poi resi una griglia;\n",
        "\n",
        "- d : dimensione della griglia (d = 1, 2 o 3);\n",
        "\n",
        "- plot (default = False): se è True, la griglia generata verrà plottata.\n",
        "\n",
        "La funzione ritorna un np.array di dimensione $(n^d,d)$."
      ]
    },
    {
      "cell_type": "code",
      "metadata": {
        "id": "x7fYrt9W-ymT",
        "colab_type": "code",
        "colab": {}
      },
      "source": [
        "def generate_interpolation_nodes(n, d):\n",
        "    \"\"\"\n",
        "    Restituisce i nodi di interpolazione per l'elemento di riferimento in d dimensioni\n",
        "    \"\"\"\n",
        "    assert d==1 or d==2 or d==3\n",
        "    assert n>1\n",
        "\n",
        "    def generate_CGL_nodes(n):\n",
        "        q, w = gauss_lobatto(n, 10)\n",
        "        q = np.array(q, dtype=float)\n",
        "        return q\n",
        "\n",
        "    def generate_interpolation_nodes_2d(n):\n",
        "        q = generate_CGL_nodes(n)\n",
        "        Q1, Q2 = np.meshgrid(q,q)\n",
        "        grid = np.stack([Q1,Q2], axis=-1).reshape((-1,2))\n",
        "        return grid\n",
        "        \n",
        "    def generate_interpolation_nodes_3d(n):\n",
        "        q = generate_CGL_nodes(n)\n",
        "        Q1, Q2, Q3 = np.meshgrid(q,q,q)\n",
        "        grid = np.stack([Q1,Q2,Q3], axis=-1).reshape((-1,3))\n",
        "        return grid\n",
        "\n",
        "    if(d==1):\n",
        "      return generate_CGL_nodes(n).reshape(-1,1)\n",
        "    elif(d==2):\n",
        "      return generate_interpolation_nodes_2d(n)\n",
        "    elif(d==3):\n",
        "      return generate_interpolation_nodes_3d(n)\n",
        "    else:\n",
        "      print(\"Dimension d must be 1, 2 or 3\")\n",
        "      return"
      ],
      "execution_count": 0,
      "outputs": []
    },
    {
      "cell_type": "markdown",
      "metadata": {
        "id": "O6ujTVD9AvAe",
        "colab_type": "text"
      },
      "source": [
        "# Celle random"
      ]
    },
    {
      "cell_type": "code",
      "metadata": {
        "id": "w4rYu1mMEKwg",
        "colab_type": "code",
        "colab": {}
      },
      "source": [
        "def generate_standard_cell(n, d, eps=0, theta=0):\n",
        "    \"\"\"\n",
        "    Genera gli n^d punti di supporto per una cella standard\n",
        "    eps --> distorsione applicata\n",
        "    theta --> angoli di rotazione\n",
        "    NOTA: se d==2 allora theta deve essere un numero oppure dafault==0, \n",
        "          se d==3 allora theta deve essere una lista di 3 numeri\n",
        "    \"\"\"\n",
        "    assert n==2 or n==3 or n==4\n",
        "    assert d==1 or d==2 or d==3\n",
        "\n",
        "    #Distortion\n",
        "    K = generate_interpolation_nodes(n,d)\n",
        "    distortion = (np.random.random(K.shape)-.5)*eps\n",
        "    K += distortion\n",
        "    \n",
        "    theta = np.array(theta)\n",
        "    #2D rotation\n",
        "    if(d==2):\n",
        "      assert len(theta.shape)==0\n",
        "      R = np.array([[np.cos(theta), np.sin(theta)],[-np.sin(theta), np.cos(theta)]])\n",
        "      K = np.tensordot(K, R, axes=[[-1],[-1]])\n",
        "    #3D rotation\n",
        "    elif (d==3):\n",
        "      assert theta.shape[0]==3\n",
        "      a, b, c = theta[0], theta[1], theta[2]\n",
        "      yaw = np.array([[np.cos(a),-np.sin(a),0.],[np.sin(a),np.cos(a),0.],[0.,0.,1.]])\n",
        "      pitch = np.array([[np.cos(b),0.,np.sin(b)],[0.,1.,0.],[-np.sin(b),0.,np.cos(b)]])\n",
        "      roll = np.array([[1.,0.,0.],[0.,np.cos(c),-np.sin(c)],[0.,np.sin(c),np.cos(c)]])\n",
        "      R = np.matmul(np.matmul(yaw,pitch),roll)\n",
        "      K = np.tensordot(K, R, axes=[[-1],[-1]])\n",
        "      \n",
        "    #Standardization\n",
        "    m, M = np.min(K, axis=0), np.max(K, axis=0)\n",
        "    h = M-m\n",
        "    K -= m\n",
        "    K /= h/2\n",
        "    K -= 1\n",
        "    return K"
      ],
      "execution_count": 0,
      "outputs": []
    },
    {
      "cell_type": "code",
      "metadata": {
        "id": "JN2wCLTlwG3P",
        "colab_type": "code",
        "colab": {}
      },
      "source": [
        "def plot_cell(K):\n",
        "    \"\"\"\n",
        "    Restituisce uno scatterplot dei punti di supporto K\n",
        "    NOTA: len(K.shape)==1 or K.shape[1]==2 or K.shape[1]==3\n",
        "    \"\"\"\n",
        "\n",
        "    def plot_1d(K):\n",
        "        fig = plt.figure()\n",
        "        ax = fig.add_subplot(111)\n",
        "        ax.set_xlim(-1.5,1.5)\n",
        "        ax.set_ylim(0,10)\n",
        "        xmin = -1.2\n",
        "        xmax = 1.2\n",
        "        y = 5\n",
        "        height = 1\n",
        "        plt.hlines(y, xmin, xmax)\n",
        "        plt.vlines(xmin, y - height / 2., y + height / 2.)\n",
        "        plt.vlines(xmax, y - height / 2., y + height / 2.)\n",
        "        px = K\n",
        "        plt.plot(K,y*np.ones(K.shape), 'ro', ms = 5, mfc = 'r')\n",
        "        for x in K:\n",
        "           plt.annotate(str(np.round(x[0],2)), (x[0],y), xytext = (x[0]+.09, y+.5),  horizontalalignment='right')\n",
        "        plt.axis('off')\n",
        "        return\n",
        "\n",
        "    def plot_2d(K):\n",
        "        fig = plt.figure()\n",
        "        ax = fig.add_subplot(111)\n",
        "        scat = ax.scatter(K[...,0], K[...,1])\n",
        "        return\n",
        "\n",
        "    def plot_3d(K):\n",
        "        fig = plt.figure()\n",
        "        ax = fig.add_subplot(111, projection='3d')\n",
        "        scat = ax.scatter(K[...,0], K[...,1], K[...,2], c=K[...,2].flatten(), alpha=0.5)\n",
        "        fig.colorbar(scat, shrink=0.5, aspect=5)\n",
        "        return\n",
        "\n",
        "    dim = K.shape\n",
        "    assert dim[1]==1 or dim[1]==2 or dim[1]==3\n",
        "    if(dim[1]==1):\n",
        "      plot_1d(K)\n",
        "      return\n",
        "    elif(dim[1]==2):\n",
        "      plot_2d(K)\n",
        "      return\n",
        "    elif(dim[1]==3):\n",
        "      plot_3d(K)\n",
        "      return"
      ],
      "execution_count": 0,
      "outputs": []
    },
    {
      "cell_type": "markdown",
      "metadata": {
        "id": "xmxpzjN176gX",
        "colab_type": "text"
      },
      "source": [
        "# Polinomi di Lagrange\n"
      ]
    },
    {
      "cell_type": "code",
      "metadata": {
        "id": "-VrgUC0UIZVe",
        "colab_type": "code",
        "colab": {}
      },
      "source": [
        "def generate_L(K):\n",
        "    \"\"\"\n",
        "    Restituisce la funzione L_K che mappa Khat in K.\n",
        "    La funzione restituita è vettorizzata.\n",
        "    Esempio:\n",
        "      K = generate_standard_cell(3,2,.5,1)\n",
        "      L = generate_L(K)\n",
        "      L([[0,0]]) --> restituisce l'immagine del punto [0,0]\n",
        "      L([[0,0],[5,2],[3,4]]) --> restituisce un array contenente le immagini dei tre punti\n",
        "\n",
        "    \"\"\"\n",
        "    d = K.shape[1]\n",
        "    n = int(pow(K.shape[0],1/d)+.5)\n",
        "    Khat = generate_interpolation_nodes(n,d)\n",
        "    q, w = gauss_lobatto(n, 10)\n",
        "    nodes = np.array(q, dtype=float)\n",
        "\n",
        "    def Lagrange(i,x):\n",
        "        x = x.repeat(n-1).reshape(-1,d*(n-1))\n",
        "        v = []\n",
        "        for k in range(d):\n",
        "            v.append(np.delete(nodes,np.where(nodes==Khat[i][k])))\n",
        "        v = np.array(v).flatten()\n",
        "        v = v.repeat(x.shape[0]).reshape((-1,len(v)), order='F')\n",
        "        avoid = Khat[i].repeat(n-1).repeat(x.shape[0]).reshape(-1,d*(n-1), order='F')\n",
        "        return np.prod((x-v)/(avoid-v), axis=1)\n",
        "    \n",
        "    def L(x):\n",
        "        x = np.array(x)\n",
        "        lgr = np.zeros((0,x.shape[0]))\n",
        "        for i in range(len(Khat)):\n",
        "            lgr = np.append(lgr, Lagrange(i,x))\n",
        "        lgr = np.stack(lgr.reshape((-1,x.shape[0])),axis=-1)\n",
        "        return np.matmul(lgr,K)\n",
        "\n",
        "    return L"
      ],
      "execution_count": 0,
      "outputs": []
    },
    {
      "cell_type": "markdown",
      "metadata": {
        "id": "wDtVUaXOJH1a",
        "colab_type": "text"
      },
      "source": [
        "# Full inversion dataset\n"
      ]
    },
    {
      "cell_type": "code",
      "metadata": {
        "id": "GIpkfvHlG39k",
        "colab_type": "code",
        "colab": {}
      },
      "source": [
        "def dataset_full(n, d, distortions, angles, delta=.5, n_sampling_points=100):\n",
        "    assert n==2 or n==3 or n==4\n",
        "    assert d==2 or d==3\n",
        "    distortions = np.array(distortions)\n",
        "    angles = np.array(angles)\n",
        "    if (d==3):\n",
        "       assert angles.shape[1]==3\n",
        "\n",
        "    xhat_1d = np.linspace(-delta-1,1+delta,n_sampling_points)\n",
        "    if(d==2):\n",
        "      xhat = np.stack(np.meshgrid(xhat_1d,xhat_1d), axis=-1).reshape((-1,d))\n",
        "    else:\n",
        "      xhat = np.stack(np.meshgrid(xhat_1d,xhat_1d,xhat_1d), axis=-1).reshape((-1,d))\n",
        "\n",
        "    xtrain = np.zeros((0,(pow(n,d)+1)*d))\n",
        "    ytrain = np.zeros((0,d))\n",
        "\n",
        "    i=0\n",
        "    start = timeit.default_timer()\n",
        "\n",
        "    for A in distortions:\n",
        "        i+=1\n",
        "        clear_output(wait=True)\n",
        "        for B in angles:\n",
        "            \n",
        "\n",
        "            K = generate_standard_cell(n,d,A,B)\n",
        "            L = generate_L(K)\n",
        "            x = L(xhat)\n",
        "            mask = (x >= -1).all(axis=-1) * (x <= 1).all(axis=-1)\n",
        "            x = x[mask,:]\n",
        "            xhat = xhat[mask,:]\n",
        "            \n",
        "            xdata = np.concatenate((x, np.reshape(np.repeat(K.flatten(),x.shape[0]), (x.shape[0],-1) ,order='F')), axis=-1)\n",
        "\n",
        "            xtrain = np.append(xtrain, xdata, axis=0)\n",
        "            ytrain = np.append(ytrain, xhat[...,:], axis=0)\n",
        "\n",
        "        stop = timeit.default_timer()\n",
        "        time = np.round((stop-start)/60 , 2)\n",
        "        wait = np.round((time/i)*(len(distortions)-i), 2)\n",
        "        print(\"FULL INVERSE DATASET\")\n",
        "        print(\"Tempo trascorso: \", time, \" minuti\")\n",
        "        print(\"Tempo rimanente: \", wait, \" minuti\")\n",
        "        print(\"Percentuale di completamento: \", np.round((i/len(distortions))*100,2), \"%\") \n",
        "\n",
        "\n",
        "    return xtrain, ytrain"
      ],
      "execution_count": 0,
      "outputs": []
    },
    {
      "cell_type": "markdown",
      "metadata": {
        "id": "T10kUZRZa0ED",
        "colab_type": "text"
      },
      "source": [
        "# Polynomial inversion dataset\n"
      ]
    },
    {
      "cell_type": "code",
      "metadata": {
        "id": "pA5gw_RZCWdg",
        "colab_type": "code",
        "colab": {}
      },
      "source": [
        "from scipy.optimize import fsolve\n",
        "\n",
        "def find_polynomial_inverse(K,up):\n",
        "    d = K.shape[1]\n",
        "    n = int(pow(K.shape[0],1/d)+.5) + up\n",
        "    Khat = generate_interpolation_nodes(n,d)\n",
        "\n",
        "    def residual(V):\n",
        "        V = V.reshape((-1,d))\n",
        "        F = generate_L(K)\n",
        "        res = F(V)- Khat\n",
        "        return res.flatten()\n",
        "    \n",
        "    return fsolve(residual,Khat.flatten()).reshape(-1,d)"
      ],
      "execution_count": 0,
      "outputs": []
    },
    {
      "cell_type": "code",
      "metadata": {
        "id": "a3RZZ4WNyoiB",
        "colab_type": "code",
        "colab": {}
      },
      "source": [
        "def dataset_polynomial(n, up, d, distortions, angles):\n",
        "    assert n==2 or n==3 or n==4\n",
        "    assert d==2 or d==3\n",
        "    distortions = np.array(distortions)\n",
        "    angles = np.array(angles)\n",
        "    if (d==3):\n",
        "       assert angles.shape[1]==3\n",
        "\n",
        "    xtrain = np.zeros((0,(pow(n,d)*d)))\n",
        "    ytrain = np.zeros((0,(pow(n+up,d)*d)))\n",
        "\n",
        "    i=0\n",
        "    print(\"Percentuale di completamento: 0%\")\n",
        "    start = timeit.default_timer()\n",
        "\n",
        "\n",
        "    for A in distortions:\n",
        "\n",
        "        i+=1\n",
        "        clear_output(wait=True)\n",
        "\n",
        "        for B in angles:\n",
        "            K = generate_standard_cell(n,d,A,B)\n",
        "            xtrain = np.append(xtrain, K.flatten())\n",
        "            ytrain = np.append(ytrain, find_polynomial_inverse(K,up))\n",
        "\n",
        "        stop = timeit.default_timer()\n",
        "        time = np.round((stop-start)/60 , 2)\n",
        "        wait = np.round((time/i)*(len(distortions)-i), 2)\n",
        "        print(\"POLYNOMIAL DATASET\")\n",
        "        print(\"Tempo trascorso: \", time, \" minuti\")\n",
        "        print(\"Tempo rimanente: \", wait, \" minuti\")\n",
        "        print(\"Percentuale di completamento: \", np.round((i/len(distortions))*100,2), \"%\")    \n",
        "\n",
        "    xtrain = xtrain.reshape((-1,(pow(n,d)*d)))\n",
        "    ytrain = ytrain.reshape((-1,(pow(n+up,d)*d)))\n",
        "\n",
        "    return xtrain, ytrain"
      ],
      "execution_count": 0,
      "outputs": []
    }
  ]
}