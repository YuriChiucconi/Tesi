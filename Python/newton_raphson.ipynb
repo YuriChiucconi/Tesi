{
  "nbformat": 4,
  "nbformat_minor": 0,
  "metadata": {
    "kernelspec": {
      "display_name": "Python 3",
      "language": "python",
      "name": "python3"
    },
    "language_info": {
      "codemirror_mode": {
        "name": "ipython",
        "version": 3
      },
      "file_extension": ".py",
      "mimetype": "text/x-python",
      "name": "python",
      "nbconvert_exporter": "python",
      "pygments_lexer": "ipython3",
      "version": "3.7.6"
    },
    "colab": {
      "name": "newton_raphson.ipynb",
      "provenance": []
    }
  },
  "cells": [
    {
      "cell_type": "code",
      "metadata": {
        "id": "uxEgnbFHPEls",
        "colab_type": "code",
        "colab": {}
      },
      "source": [
        "import numpy as np\n",
        "from sympy.integrals.quadrature import gauss_lobatto\n",
        "\n",
        "!pip install numdifftools\n",
        "import numdifftools as nd"
      ],
      "execution_count": 0,
      "outputs": []
    },
    {
      "cell_type": "markdown",
      "metadata": {
        "id": "vQWk6y8gQUha",
        "colab_type": "text"
      },
      "source": [
        "# Metodo di Newton-Raphson\n",
        "\n",
        "La funzione **newton** prende in input un array $X$, generato con *dataset_full*, ed il relativo valore della dimensione $d$.\n",
        "\n",
        "I primi $d$ valori di $X$ sono le coordinate del punto $x$ di cui vogliamo calcolare la preimmagine, mentre i restanti $d \\cdot n^d$ sono le coordinate degli $n^d$ punti di supporto di $K$.\n",
        "\n",
        "Ci restituisce in output un array contenente le $d$ coordinate della preimmagine di $x$, ovvero le coordinate di $\\hat{x}: \\mathcal{L}_K(\\hat{x}) = x$. \n",
        "\n",
        "Settando il parametro *eps* (default $10^{-8}$) si può impostare la precisione richiesta al metodo."
      ]
    },
    {
      "cell_type": "code",
      "metadata": {
        "id": "XEtUX6HmPEnX",
        "colab_type": "code",
        "colab": {}
      },
      "source": [
        "def newton(X, d, eps=1.e-8):\n",
        "    \n",
        "    p = X[0:d]\n",
        "    K = X[d:].reshape(-1,d)\n",
        "    n = int(pow(K.shape[0],1/d)+.5)\n",
        "\n",
        "    ##################################################################\n",
        "\n",
        "    q, w = gauss_lobatto(n, 10)\n",
        "    q = np.array(q, dtype=float)\n",
        "    if(d==2):\n",
        "        Q1, Q2 = np.meshgrid(q,q)\n",
        "        Khat = np.stack([Q1,Q2], axis=-1).reshape((-1,d))\n",
        "    elif(d==3):\n",
        "        Q1, Q2, Q3 = np.meshgrid(q,q,q)\n",
        "        Khat= np.stack([Q1,Q2,Q3], axis=-1).reshape((-1,d))\n",
        "\n",
        "    ##################################################################\n",
        "    \n",
        "    def lagrange(i,x):\n",
        "        x = x.repeat(n-1)\n",
        "        v = []\n",
        "        for k in range(d):\n",
        "            v.append(np.delete(q,np.where(q==Khat[i][k])))\n",
        "        v = np.array(v).flatten()\n",
        "        avoid = Khat[i].repeat(n-1)\n",
        "        return np.prod((x-v)/(avoid-v))\n",
        "    \n",
        "    def L(x):\n",
        "        lgr = np.array([lagrange(i,x) for i in range(pow(n,d))])\n",
        "        return np.matmul(lgr,K)\n",
        "    \n",
        "    ##################################################################\n",
        "    \n",
        "    xhat = np.zeros(d)\n",
        "    f = lambda xhat: L(xhat) - p\n",
        "    while(np.linalg.norm(f(xhat))>eps):\n",
        "          xhat = xhat - np.matmul(np.linalg.inv(nd.Jacobian(f)(xhat)), f(xhat).T)\n",
        "    \n",
        "    return xhat"
      ],
      "execution_count": 0,
      "outputs": []
    }
  ]
}