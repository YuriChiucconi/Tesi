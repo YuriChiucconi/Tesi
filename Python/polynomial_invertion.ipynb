{
  "nbformat": 4,
  "nbformat_minor": 0,
  "metadata": {
    "colab": {
      "name": "polynomial_invertion.ipynb",
      "provenance": []
    },
    "kernelspec": {
      "name": "python3",
      "display_name": "Python 3"
    }
  },
  "cells": [
    {
      "cell_type": "code",
      "metadata": {
        "id": "OY4NMl6HGJiu",
        "colab_type": "code",
        "colab": {}
      },
      "source": [
        "import numpy as np\n",
        "from sympy.integrals.quadrature import gauss_lobatto\n",
        "\n",
        "!pip install numdifftools\n",
        "import numdifftools as nd"
      ],
      "execution_count": 0,
      "outputs": []
    },
    {
      "cell_type": "code",
      "metadata": {
        "id": "ERSN67qeMKfD",
        "colab_type": "code",
        "colab": {}
      },
      "source": [
        "import timeit"
      ],
      "execution_count": 0,
      "outputs": []
    },
    {
      "cell_type": "markdown",
      "metadata": {
        "id": "OSj5DHmCOiKe",
        "colab_type": "text"
      },
      "source": [
        "# Approssimazione polinomiale dell'inversa\n",
        "\n",
        "La funzione **polynomial_inversion** prende in input un array $X$, generato con *dataset_full*, il relativo valore della dimensione $d$ ed il valore *up* che indica di quanto aumentare il parametro $n$ dell'inversa polinomiale di $\\mathcal{L}_K^n$.\n",
        "\n",
        "Ci restituisce in output un array contenente un'approssimazione delle $d$ coordinate della preimmagine di $x$, ovvero le coordinate di $\\hat{x}: \\mathcal{L}_K(\\hat{x}) = x$. \n",
        "\n",
        "Settando il parametro *eps* (default $10^{-8}$) si può impostare la precisione richiesta al metodo."
      ]
    },
    {
      "cell_type": "code",
      "metadata": {
        "id": "W_PiTRcIOgGq",
        "colab_type": "code",
        "colab": {}
      },
      "source": [
        "def polynomial_inversion(X, d, up=1, eps=1.e-8):\n",
        "    \n",
        "    ### t0 = timeit.default_timer()\n",
        "\n",
        "    p = X[0:d].reshape((-1,d))\n",
        "    K1 = X[d:].reshape(-1,d)\n",
        "    n1 = int(pow(K1.shape[0],1/d)+.5)\n",
        "    n2 = n1 + up\n",
        "\n",
        "    ##################################################################\n",
        "\n",
        "    def interpolation_points(n):\n",
        "        q, w = gauss_lobatto(n, 10)\n",
        "        q = np.array(q, dtype=float)\n",
        "        if(d==2):\n",
        "           Q1, Q2 = np.meshgrid(q,q)\n",
        "           return np.stack([Q1,Q2], axis=-1).reshape((-1,d))\n",
        "        elif(d==3):\n",
        "           Q1, Q2, Q3 = np.meshgrid(q,q,q)\n",
        "           return np.stack([Q1,Q2,Q3], axis=-1).reshape((-1,d))\n",
        "\n",
        "    ##################################################################\n",
        "\n",
        "    Khat1 = interpolation_points(n1)\n",
        "    Khat2 = interpolation_points(n2).flatten()\n",
        "    \n",
        "\n",
        "    ##################################################################\n",
        "\n",
        "    def Lagrange(i, x, n, Khat):\n",
        "        x = x.repeat(n-1).reshape((-1,d*(n-1)))\n",
        "        nodes = Khat[0:n,0]\n",
        "        v = []\n",
        "        for k in range(d):\n",
        "            v.append(np.delete(nodes,np.where(nodes==Khat[i][k])))\n",
        "        v = np.array(v).flatten()\n",
        "        v = v.repeat(x.shape[0]).reshape((-1,len(v)), order='F')\n",
        "        avoid = Khat[i].repeat(n-1).repeat(x.shape[0]).reshape(-1,d*(n-1), order='F')\n",
        "        return np.prod((x-v)/(avoid-v), axis=1)\n",
        "\n",
        "    def L(x, K, n, Khat):\n",
        "        x = np.array(x)\n",
        "        lgr = np.zeros((0,x.shape[0]))\n",
        "        for i in range(len(Khat)):\n",
        "            lgr = np.append(lgr, Lagrange(i,x,n,Khat))\n",
        "        lgr = np.stack(lgr.reshape((-1,x.shape[0])),axis=-1)\n",
        "        return np.matmul(lgr,K)\n",
        "\n",
        "    ###################################################################\n",
        "\n",
        "    def residual(newCell):\n",
        "        return L(newCell.reshape((-1,d)), K1, n1, Khat1).flatten() - Khat2\n",
        "\n",
        "    ##################################################################\n",
        "    \n",
        "    ### t1 = timeit.default_timer()\n",
        "    \n",
        "    K2 = Khat2\n",
        "    while(np.linalg.norm(residual(K2))>eps):\n",
        "          K2 = K2 - np.matmul(np.linalg.inv(nd.Jacobian(residual)(K2)), residual(K2).T)\n",
        "    K2 = K2.reshape((-1,d))\n",
        "    \n",
        "    ####################################################################\n",
        "    \n",
        "    ###t2 = timeit.default_timer()\n",
        "\n",
        "    return L(p,K2,n2,Khat2.reshape((-1,d))).flatten()###, t1-t0, t2-t1, timeit.default_timer()-t2"
      ],
      "execution_count": 0,
      "outputs": []
    }
  ]
}